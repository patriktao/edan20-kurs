{
 "cells": [
  {
   "cell_type": "markdown",
   "metadata": {},
   "source": [
    "## Tokenization using Byte-Pair Encoding and a Unigram Language Model\n",
    "\n",
    "Author: Pierre Nugues with help from Marcus Klang"
   ]
  },
  {
   "cell_type": "markdown",
   "metadata": {},
   "source": [
    "In this assignment, you will create a tokenization program to handle subwords.\n",
    "\n",
    "In many scripts from Asia, like Chinese, Korean, or Japanese scripts, tokenization cannot rely on white spaces. The byte-pair encoding and the unigram language model are techniques that are now common in machine translation to carry out a tokenization at a subword level. Subword level tokenization shows better multilingual capabilities.\n",
    "\n",
    "You will follow two papers: \n",
    "* Subword Regularization: _Improving Neural Network Translation Models with Multiple Subword Candidates_ by Kudo (2018) (https://arxiv.org/pdf/1804.10959.pdf) and \n",
    "* _Byte Pair Encoding is Suboptimal for Language Model Pretraining_ by Bostrom and Durrett (2020) (https://aclanthology.org/2020.findings-emnlp.414.pdf). \n",
    "\n",
    "In addition, you will start from a clear and easy-to-understand description in Google’s Neural Machine Translation System: _Bridging the Gap between Human and Machine Translation_ by Wu et al. (2016). (Do not read them now)\n",
    "https://arxiv.org/abs/1609.08144\n",
    "\n",
    "You will use a small corpus make it easier to test and correct your code. Note also that you will use _characters_ and not _bytes_ in this lab as this is simpler to implement. For a complete program, see the link at the end.\n",
    "\n",
    "**In your report, be sure to answer all the questions. Please reuse the section titles of this notebook so that I can check your answers more easily**"
   ]
  },
  {
   "cell_type": "markdown",
   "metadata": {},
   "source": [
    "## Preliminaries"
   ]
  },
  {
   "cell_type": "markdown",
   "metadata": {},
   "source": [
    "As an overall description of the subword tokenizers, read Sections 4 (introduction paragraph) and 4.1. in the paper on translation: _Bridging the Gap between Human and Machine Translation_ by Wu et al. (2016), https://arxiv.org/abs/1609.08144.  \n",
    "\n",
    "In your report, in a few lines (10 to 15 lines or so) you will:\n",
    "\n",
    "1. Outline the difference with tokenization as you saw it during the course;\n",
    "2. Imagine how the tokens will be learned (this will developed in the rest of the lab);\n",
    "3. Summarize what could be the advantages for Asian languages, unknown words, and translation.\n",
    "\n",
    "Commenting Sections 4 and 4.1 in your report is **mandatory**. If you are curious, you can read the complete article."
   ]
  },
  {
   "cell_type": "markdown",
   "metadata": {},
   "source": [
    "## Design of the BPE Algorithm"
   ]
  },
  {
   "cell_type": "markdown",
   "metadata": {},
   "source": [
    "The first algorithm to build the subwords from a corpus is a byte-pair encoding (BPE), due to Gage (1994). In the lab, you will first read two sections of more recent articles as they are easier to understand and specifically targeted to natural language processing.\n",
    "\n",
    "Read these two sections:\n",
    "\n",
    "1. Section 3.1 of _Subword Regularization: Improving Neural Network Translation Models with Multiple Subword Candidates_ (https://arxiv.org/pdf/1804.10959.pdf) by Kudo (2018).\n",
    "2. Section 2, algorithm 1 of _Byte Pair Encoding is Suboptimal for Language Model Pretraining_ (https://aclanthology.org/2020.findings-emnlp.414.pdf) by Bostrom and Durrett (2020).\n",
    "\n",
    "In your report, **summarize** (10 to 15 lines or so) with your own words the byte-pair encoding (BPE) algorithm as described by Kudo (2018) and Bostrom and Durrett (2020) (Only BPE and not the unigram language model)."
   ]
  },
  {
   "cell_type": "markdown",
   "metadata": {},
   "source": [
    "## BPE Programming"
   ]
  },
  {
   "cell_type": "markdown",
   "metadata": {},
   "source": [
    "You will now program a byte-pair encoding program in Python. You will do it step by step. The first part will be to extract the subwords from a corpus. Note that you will use the characters, not the bytes. "
   ]
  },
  {
   "cell_type": "code",
   "execution_count": 1,
   "metadata": {},
   "outputs": [],
   "source": [
    "import regex as re\n",
    "import tqdm as tqdm\n",
    "import math"
   ]
  },
  {
   "cell_type": "markdown",
   "metadata": {},
   "source": [
    "First use a small corpus and then, if you have time, test your program on a larger one. Here we take the smallest novel from Selma Lagerlöf in our corpus."
   ]
  },
  {
   "cell_type": "code",
   "execution_count": 2,
   "metadata": {},
   "outputs": [
    {
     "name": "stdout",
     "output_type": "stream",
     "text": [
      "Selma has been downloaded.\n"
     ]
    },
    {
     "data": {
      "text/plain": [
       "['Selma/bannlyst.txt',\n",
       " 'Selma/gosta.txt',\n",
       " 'Selma/herrgard.txt',\n",
       " 'Selma/jerusalem.txt',\n",
       " 'Selma/kejsaren.txt',\n",
       " 'Selma/marbacka.txt',\n",
       " 'Selma/nils.txt',\n",
       " 'Selma/osynliga.txt',\n",
       " 'Selma/troll.txt']"
      ]
     },
     "execution_count": 2,
     "metadata": {},
     "output_type": "execute_result"
    }
   ],
   "source": [
    "import os\n",
    "from zipfile import ZipFile\n",
    "import requests\n",
    "\n",
    "# Parameters for Selma dataset\n",
    "SELMA_URL = \"https://github.com/pnugues/ilppp/raw/master/programs/corpus/Selma.zip\"\n",
    "\n",
    "SELMA_FILES = [\n",
    "    os.path.join(\"Selma\", fname) \n",
    "    for fname in \n",
    "    [\n",
    "        \"bannlyst.txt\", \n",
    "        \"gosta.txt\", \n",
    "        \"herrgard.txt\", \n",
    "        \"jerusalem.txt\", \n",
    "        \"kejsaren.txt\", \n",
    "        \"marbacka.txt\", \n",
    "        \"nils.txt\", \n",
    "        \"osynliga.txt\", \n",
    "        \"troll.txt\"\n",
    "    ]\n",
    "]\n",
    "\n",
    "def download_and_extract_selma():\n",
    "    \"\"\"Downloads and unpacks Selma.zip\"\"\"\n",
    "    \n",
    "    # Download if not all files exist\n",
    "    req = requests.get(SELMA_URL, stream=True)\n",
    "    if req.status_code != 200:\n",
    "        print(\"Failed to download file, got status: \" + req.status_code)\n",
    "        req.close()\n",
    "    else:\n",
    "        with open(\"Selma.zip\", \"wb\") as fd:\n",
    "            written = 0\n",
    "            for chunk in req.iter_content(chunk_size=65536):\n",
    "                fd.write(chunk)\n",
    "                written += len(chunk)\n",
    "                print(\"Downloading: %d bytes written to Selma.zip\" % written)\n",
    "\n",
    "        print(\"Selma.zip donwnloaded.\")\n",
    "        req.close()\n",
    "        \n",
    "        selma_zipfile = ZipFile(\"Selma.zip\")\n",
    "        selma_files_to_extract = [zi for zi in selma_zipfile.filelist if not zi.filename.startswith(\"__\") and zi.filename.endswith(\".txt\")]\n",
    "        for zi in selma_files_to_extract:\n",
    "            selma_zipfile.extract(zi)\n",
    "            print(\"Extracted: \" + zi.filename)\n",
    "            \n",
    "        print(\"Done!\")\n",
    "        \n",
    "# If not all path exists (all are true), then download\n",
    "if not all([os.path.exists(fname) for fname in SELMA_FILES]):\n",
    "    download_and_extract_selma()\n",
    "else:\n",
    "    print(\"Selma has been downloaded.\")\n",
    "    \n",
    "SELMA_FILES"
   ]
  },
  {
   "cell_type": "code",
   "execution_count": 3,
   "metadata": {},
   "outputs": [],
   "source": [
    "#FILE_PATH = '../../corpus/Selma.txt'\n",
    "FILE_PATH = 'Selma/herrgard.txt'"
   ]
  },
  {
   "cell_type": "markdown",
   "metadata": {},
   "source": [
    "Read the corpus and store it in the `corpus` string variable."
   ]
  },
  {
   "cell_type": "code",
   "execution_count": 4,
   "metadata": {},
   "outputs": [],
   "source": [
    "with open(FILE_PATH, encoding='utf8') as f:\n",
    "    corpus = f.read().strip()"
   ]
  },
  {
   "cell_type": "markdown",
   "metadata": {},
   "source": [
    "Replace all the space sequences in `corpus`, including newlines and tabulations, and normalize them as one space."
   ]
  },
  {
   "cell_type": "code",
   "execution_count": 5,
   "metadata": {},
   "outputs": [],
   "source": [
    "# Write your code\n"
   ]
  },
  {
   "cell_type": "code",
   "execution_count": 6,
   "metadata": {},
   "outputs": [
    {
     "data": {
      "text/plain": [
       "'Selma Lagerlöf En herrgårdssägen Bokutgåva Albert Bonniers förlag, Stockholm 1899. I. Det var en skö'"
      ]
     },
     "execution_count": 6,
     "metadata": {},
     "output_type": "execute_result"
    }
   ],
   "source": [
    "corpus[:100]"
   ]
  },
  {
   "cell_type": "markdown",
   "metadata": {},
   "source": [
    "### BPE"
   ]
  },
  {
   "cell_type": "markdown",
   "metadata": {},
   "source": [
    "#### Initial Vocabulary"
   ]
  },
  {
   "cell_type": "markdown",
   "metadata": {},
   "source": [
    "Write the code (one instruction) to split the corpus in a list of characters and store the results in `corpus_l`. This is just a type conversion. Given the input:\n",
    "<pre><span style=\"font-size: 12pt;\">corpus = 'De senaste fem &aring;ren har cirka 25 000 unga'</span></pre>\n",
    "\n",
    "Return:\n",
    "<pre><span style=\"font-size: 12pt;\">corpus_l = ['D', 'e', ' ', 's', 'e', 'n', 'a', 's', 't', 'e', ' ', 'f', 'e', 'm', ' ', ...]</span></pre>"
   ]
  },
  {
   "cell_type": "code",
   "execution_count": 7,
   "metadata": {},
   "outputs": [],
   "source": [
    "# Write your code\n"
   ]
  },
  {
   "cell_type": "code",
   "execution_count": 8,
   "metadata": {},
   "outputs": [
    {
     "data": {
      "text/plain": [
       "['S', 'e', 'l', 'm', 'a', ' ', 'L', 'a', 'g', 'e', 'r', 'l', 'ö', 'f', ' ']"
      ]
     },
     "execution_count": 8,
     "metadata": {},
     "output_type": "execute_result"
    }
   ],
   "source": [
    "corpus_l[:15]"
   ]
  },
  {
   "cell_type": "markdown",
   "metadata": {},
   "source": [
    "Extract the set of characters that will serve as initial subword tokens:\n",
    "\n",
    "1. Write a statement to extract the set of all the characters from `corpus_l`; \n",
    "2. Exclude the space from this set and call the resulting set: `char_set`."
   ]
  },
  {
   "cell_type": "code",
   "execution_count": 9,
   "metadata": {},
   "outputs": [],
   "source": [
    "# Write your code\n"
   ]
  },
  {
   "cell_type": "code",
   "execution_count": 10,
   "metadata": {},
   "outputs": [
    {
     "data": {
      "text/plain": [
       "67"
      ]
     },
     "execution_count": 10,
     "metadata": {},
     "output_type": "execute_result"
    }
   ],
   "source": [
    "len(char_set)"
   ]
  },
  {
   "cell_type": "markdown",
   "metadata": {},
   "source": [
    "Using code from the previous question, write an `initial_vocabulary()` function taking the the `corpus_l` variable as input and returning the the set of all characters appearing in the corpus (the initial character set), deprived from the white space."
   ]
  },
  {
   "cell_type": "code",
   "execution_count": 11,
   "metadata": {},
   "outputs": [],
   "source": [
    "# Write your code here\n"
   ]
  },
  {
   "cell_type": "code",
   "execution_count": 12,
   "metadata": {},
   "outputs": [
    {
     "data": {
      "text/plain": [
       "{'!',\n",
       " ',',\n",
       " '-',\n",
       " '.',\n",
       " '1',\n",
       " '8',\n",
       " '9',\n",
       " ':',\n",
       " ';',\n",
       " '?',\n",
       " 'A',\n",
       " 'B',\n",
       " 'C',\n",
       " 'D',\n",
       " 'E',\n",
       " 'F',\n",
       " 'G',\n",
       " 'H',\n",
       " 'I',\n",
       " 'J',\n",
       " 'K',\n",
       " 'L',\n",
       " 'M',\n",
       " 'N',\n",
       " 'O',\n",
       " 'P',\n",
       " 'R',\n",
       " 'S',\n",
       " 'T',\n",
       " 'U',\n",
       " 'V',\n",
       " 'X',\n",
       " '_',\n",
       " 'a',\n",
       " 'b',\n",
       " 'c',\n",
       " 'd',\n",
       " 'e',\n",
       " 'f',\n",
       " 'g',\n",
       " 'h',\n",
       " 'i',\n",
       " 'j',\n",
       " 'k',\n",
       " 'l',\n",
       " 'm',\n",
       " 'n',\n",
       " 'o',\n",
       " 'p',\n",
       " 'r',\n",
       " 's',\n",
       " 't',\n",
       " 'u',\n",
       " 'v',\n",
       " 'x',\n",
       " 'y',\n",
       " 'z',\n",
       " '»',\n",
       " 'Ä',\n",
       " 'Å',\n",
       " 'Ö',\n",
       " 'ä',\n",
       " 'å',\n",
       " 'é',\n",
       " 'ö',\n",
       " '–',\n",
       " '’'}"
      ]
     },
     "execution_count": 12,
     "metadata": {},
     "output_type": "execute_result"
    }
   ],
   "source": [
    "initial_vocabulary(corpus_l)"
   ]
  },
  {
   "cell_type": "markdown",
   "metadata": {},
   "source": [
    "#### Counting"
   ]
  },
  {
   "cell_type": "markdown",
   "metadata": {},
   "source": [
    "Write a `pair_count()` function that takes a list of tokens as input, possibly single characters or subword tokens, and that counts the adjacent pairs (bigrams). You will implement these counts as dictionaries: The key will be a pair (tuple) of adjacent symbols and the value, its frequency. Remember that you cannot cross whitespaces, i.e. a pair cannot include a whitespace."
   ]
  },
  {
   "cell_type": "markdown",
   "metadata": {},
   "source": [
    "Given the input\n",
    "\n",
    "`['D', 'e', ' ', 's', 'e', 'n', 'a', 's', 't', ...]`\n",
    "count_pairs should return a dictionary: \n",
    "\n",
    "\n",
    "`{('D', 'e'): 1, ('s', 'e'): 1, ('e', 'n'): 1, ('n', 'a'): 1, ...}`"
   ]
  },
  {
   "cell_type": "code",
   "execution_count": 13,
   "metadata": {},
   "outputs": [],
   "source": [
    "# Write your code here\n"
   ]
  },
  {
   "cell_type": "code",
   "execution_count": 14,
   "metadata": {},
   "outputs": [],
   "source": [
    "pairs = pair_count(corpus_l)"
   ]
  },
  {
   "cell_type": "code",
   "execution_count": 15,
   "metadata": {},
   "outputs": [
    {
     "data": {
      "text/plain": [
       "{('S', 'e'): 7,\n",
       " ('e', 'l'): 511,\n",
       " ('l', 'm'): 22,\n",
       " ('m', 'a'): 424,\n",
       " ('L', 'a'): 8,\n",
       " ('a', 'g'): 477,\n",
       " ('g', 'e'): 646,\n",
       " ('e', 'r'): 1281,\n",
       " ('r', 'l'): 213,\n",
       " ('l', 'ö'): 70,\n",
       " ('ö', 'f'): 217,\n",
       " ('E', 'n'): 21,\n",
       " ('h', 'e'): 773,\n",
       " ('r', 'r'): 177,\n",
       " ('r', 'g'): 140,\n",
       " ('g', 'å'): 327,\n",
       " ('å', 'r'): 295,\n",
       " ('r', 'd'): 413,\n",
       " ('d', 's'): 83,\n",
       " ('s', 's'): 218,\n",
       " ('s', 'ä'): 205,\n",
       " ('ä', 'g'): 143,\n",
       " ('e', 'n'): 3439,\n",
       " ('B', 'o'): 2,\n",
       " ('o', 'k'): 54,\n",
       " ('k', 'u'): 562,\n",
       " ('u', 't'): 295,\n",
       " ('t', 'g'): 43,\n",
       " ('å', 'v'): 2,\n",
       " ('v', 'a'): 1426,\n",
       " ('A', 'l'): 24,\n",
       " ('l', 'b'): 44,\n",
       " ('b', 'e'): 314,\n",
       " ('r', 't'): 381,\n",
       " ('o', 'n'): 1600,\n",
       " ('n', 'n'): 1070,\n",
       " ('n', 'i'): 231,\n",
       " ('i', 'e'): 22,\n",
       " ('r', 's'): 258,\n",
       " ('f', 'ö'): 980,\n",
       " ('ö', 'r'): 1317,\n",
       " ('l', 'a'): 873,\n",
       " ('g', ','): 192,\n",
       " ('S', 't'): 88,\n",
       " ('t', 'o'): 351,\n",
       " ('o', 'c'): 1223,\n",
       " ('c', 'k'): 794,\n",
       " ('k', 'h'): 23,\n",
       " ('h', 'o'): 1098,\n",
       " ('o', 'l'): 211,\n",
       " ('1', '8'): 1,\n",
       " ('8', '9'): 1,\n",
       " ('9', '9'): 1,\n",
       " ('9', '.'): 1,\n",
       " ('I', '.'): 6,\n",
       " ('D', 'e'): 429,\n",
       " ('e', 't'): 1954,\n",
       " ('a', 'r'): 1970,\n",
       " ('s', 'k'): 835,\n",
       " ('k', 'ö'): 57,\n",
       " ('ö', 'n'): 101,\n",
       " ('h', 'ö'): 223,\n",
       " ('ö', 's'): 77,\n",
       " ('s', 't'): 1632,\n",
       " ('t', 'd'): 3,\n",
       " ('d', 'a'): 626,\n",
       " ('h', 'ä'): 194,\n",
       " ('ä', 'n'): 741,\n",
       " ('n', 'e'): 813,\n",
       " ('e', 'm'): 213,\n",
       " ('m', 'o'): 208,\n",
       " ('o', 't'): 255,\n",
       " ('s', 'l'): 162,\n",
       " ('l', 'u'): 75,\n",
       " ('t', 'e'): 1102,\n",
       " ('a', 'f'): 419,\n",
       " ('t', 'r'): 379,\n",
       " ('r', 'e'): 526,\n",
       " ('t', 't'): 2178,\n",
       " ('t', 'i'): 676,\n",
       " ('i', 'o'): 95,\n",
       " ('t', 'a'): 1180,\n",
       " ('a', 'l'): 722,\n",
       " ('l', 'e'): 887,\n",
       " ('t', '.'): 304,\n",
       " ('P', 'å'): 14,\n",
       " ('d', 'e'): 4016,\n",
       " ('i', 'd'): 484,\n",
       " ('f', 'a'): 194,\n",
       " ('a', 'n'): 2441,\n",
       " ('n', 's'): 453,\n",
       " ('U', 'p'): 9,\n",
       " ('p', 's'): 29,\n",
       " ('s', 'a'): 644,\n",
       " ('ö', 'g'): 125,\n",
       " ('g', 't'): 287,\n",
       " ('t', ','): 409,\n",
       " ('g', 'u'): 32,\n",
       " ('u', 'l'): 353,\n",
       " ('l', 't'): 214,\n",
       " ('t', 'v'): 67,\n",
       " ('v', 'å'): 94,\n",
       " ('å', 'n'): 325,\n",
       " ('i', 'n'): 1047,\n",
       " ('n', 'g'): 1119,\n",
       " ('g', 's'): 109,\n",
       " ('s', 'h'): 10,\n",
       " ('h', 'u'): 160,\n",
       " ('u', 's'): 158,\n",
       " ('s', ','): 45,\n",
       " ('s', 'o'): 632,\n",
       " ('o', 'm'): 1610,\n",
       " ('o', 'd'): 220,\n",
       " ('u', 'n'): 671,\n",
       " ('n', 'd'): 1063,\n",
       " ('l', 'i'): 908,\n",
       " ('i', 'g'): 1139,\n",
       " ('a', 'm'): 353,\n",
       " ('m', 't'): 72,\n",
       " ('p', 'å'): 522,\n",
       " ('i', 't'): 506,\n",
       " ('l', 'å'): 190,\n",
       " ('b', 'o'): 161,\n",
       " ('o', 'r'): 739,\n",
       " ('t', 'k'): 8,\n",
       " ('k', 'a'): 831,\n",
       " ('n', 't'): 331,\n",
       " ('a', 'd'): 1441,\n",
       " ('n', '.'): 485,\n",
       " ('r', 'ä'): 368,\n",
       " ('ä', 't'): 180,\n",
       " ('r', 'u'): 333,\n",
       " ('k', 'i'): 109,\n",
       " ('c', 'h'): 1234,\n",
       " ('e', 'f'): 232,\n",
       " ('f', 'l'): 132,\n",
       " ('m', 'e'): 739,\n",
       " ('n', 'a'): 1027,\n",
       " ('e', 's'): 406,\n",
       " ('a', 's'): 292,\n",
       " ('v', 'i'): 562,\n",
       " ('i', 'l'): 642,\n",
       " ('l', 'd'): 218,\n",
       " ('d', 'v'): 39,\n",
       " ('n', ','): 512,\n",
       " ('v', 'ä'): 357,\n",
       " ('ä', 'x'): 17,\n",
       " ('x', 't'): 9,\n",
       " ('d', 'ä'): 206,\n",
       " ('ä', 'r'): 819,\n",
       " ('r', ','): 244,\n",
       " ('l', 's'): 182,\n",
       " ('s', 'i'): 625,\n",
       " ('k', 'r'): 190,\n",
       " ('ä', 'l'): 348,\n",
       " ('s', 'å'): 595,\n",
       " ('u', 'p'): 197,\n",
       " ('p', 'p'): 322,\n",
       " ('p', 'f'): 13,\n",
       " ('g', 'g'): 74,\n",
       " ('a', 't'): 1639,\n",
       " ('l', 'l'): 1551,\n",
       " ('m', 'r'): 16,\n",
       " ('r', 'a'): 1079,\n",
       " ('f', 'v'): 564,\n",
       " ('v', 'e'): 454,\n",
       " ('r', 'v'): 36,\n",
       " ('u', 'm'): 88,\n",
       " ('n', 'f'): 24,\n",
       " ('n', 'r'): 9,\n",
       " ('t', 'u'): 123,\n",
       " ('u', 'd'): 84,\n",
       " ('d', 'r'): 263,\n",
       " ('a', 'c'): 77,\n",
       " ('g', 'o'): 359,\n",
       " ('n', 'k'): 188,\n",
       " ('f', 'f'): 39,\n",
       " ('f', 'e'): 17,\n",
       " ('e', '.'): 276,\n",
       " ('H', 'a'): 246,\n",
       " ('k', 'e'): 460,\n",
       " ('e', 'd'): 680,\n",
       " ('f', 'i'): 176,\n",
       " ('t', 's'): 127,\n",
       " ('s', 'e'): 298,\n",
       " ('e', 'e'): 21,\n",
       " ('H', 'å'): 1,\n",
       " ('b', 'a'): 231,\n",
       " ('h', 'a'): 1366,\n",
       " ('u', 'k'): 89,\n",
       " ('u', 'r'): 207,\n",
       " ('p', 'a'): 215,\n",
       " ('u', 'g'): 62,\n",
       " ('t', 'ä'): 197,\n",
       " ('d', 'i'): 216,\n",
       " ('k', 'l'): 133,\n",
       " ('l', 'ä'): 238,\n",
       " ('ä', 'd'): 173,\n",
       " ('d', 'd'): 155,\n",
       " ('e', 'k'): 74,\n",
       " ('k', 'v'): 63,\n",
       " ('ä', 'm'): 113,\n",
       " ('ä', 'k'): 37,\n",
       " ('k', 't'): 379,\n",
       " ('e', 'g'): 107,\n",
       " ('g', 'a'): 611,\n",
       " ('m', ','): 133,\n",
       " ('o', 'f'): 75,\n",
       " ('a', ','): 363,\n",
       " ('o', 'p'): 66,\n",
       " ('r', 'i'): 613,\n",
       " ('i', 'f'): 205,\n",
       " ('f', 'b'): 6,\n",
       " ('p', 'r'): 96,\n",
       " ('h', 'y'): 29,\n",
       " ('y', 'l'): 15,\n",
       " ('l', 'o'): 233,\n",
       " ('n', 'ä'): 124,\n",
       " ('ä', 's'): 198,\n",
       " ('b', 'ö'): 96,\n",
       " ('ö', 'c'): 2,\n",
       " ('r', '.'): 179,\n",
       " ('I', 'n'): 272,\n",
       " ('i', 'c'): 254,\n",
       " ('e', ','): 315,\n",
       " ('k', 'o'): 491,\n",
       " ('n', 'o'): 403,\n",
       " ('m', '.'): 156,\n",
       " ('r', 'b'): 50,\n",
       " ('b', 'r'): 167,\n",
       " ('l', ','): 62,\n",
       " ('r', 'k'): 225,\n",
       " ('k', ','): 55,\n",
       " ('f', 'u'): 45,\n",
       " ('i', 'k'): 182,\n",
       " ('h', 'å'): 89,\n",
       " ('g', 'r'): 496,\n",
       " ('r', 'o'): 290,\n",
       " ('y', '.'): 1,\n",
       " ('D', 'u'): 29,\n",
       " ('u', ','): 39,\n",
       " ('H', 'e'): 142,\n",
       " ('j', 'a'): 286,\n",
       " ('m', 'm'): 419,\n",
       " ('l', 'v'): 10,\n",
       " ('g', '.'): 168,\n",
       " ('d', 'u'): 163,\n",
       " ('r', 'å'): 253,\n",
       " ('å', 'k'): 42,\n",
       " ('n', 'å'): 234,\n",
       " ('å', 'g'): 453,\n",
       " ('o', 'b'): 14,\n",
       " ('e', 'h'): 56,\n",
       " ('g', 'l'): 104,\n",
       " ('t', '?'): 23,\n",
       " ('e', 'j'): 591,\n",
       " ('j', ','): 39,\n",
       " ('s', 'n'): 95,\n",
       " ('g', 'ä'): 43,\n",
       " ('t', 'y'): 171,\n",
       " ('y', 's'): 68,\n",
       " ('d', '.'): 118,\n",
       " ('L', 'å'): 7,\n",
       " ('å', 't'): 296,\n",
       " ('d', 'å'): 228,\n",
       " ('o', 'g'): 200,\n",
       " ('b', 'l'): 365,\n",
       " ('t', 'l'): 50,\n",
       " ('l', 'y'): 94,\n",
       " ('d', 'l'): 48,\n",
       " ('n', 'u'): 148,\n",
       " ('J', 'a'): 96,\n",
       " ('m', 'i'): 220,\n",
       " ('t', 'å'): 107,\n",
       " ('u', '.'): 15,\n",
       " ('s', 'j'): 115,\n",
       " ('j', 'ä'): 177,\n",
       " ('l', 'f'): 80,\n",
       " ('f', ':'): 1,\n",
       " ('G', 'u'): 41,\n",
       " ('Å', 'l'): 25,\n",
       " ('r', 'p'): 17,\n",
       " ('y', 'c'): 215,\n",
       " ('å', 'd'): 189,\n",
       " ('m', 'ä'): 107,\n",
       " ('F', 'ö'): 17,\n",
       " ('M', 'i'): 8,\n",
       " ('r', 'f'): 136,\n",
       " ('j', 'u'): 270,\n",
       " ('i', 'h'): 30,\n",
       " ('r', 'ö'): 189,\n",
       " ('f', 'r'): 419,\n",
       " ('m', 'f'): 27,\n",
       " ('h', 'v'): 202,\n",
       " ('r', 'j'): 107,\n",
       " ('j', 'e'): 54,\n",
       " ('n', 'b'): 44,\n",
       " ('t', 'm'): 25,\n",
       " ('h', 'j'): 53,\n",
       " ('l', 'p'): 37,\n",
       " ('n', 'h'): 10,\n",
       " ('l', 'k'): 95,\n",
       " ('l', 'n'): 50,\n",
       " ('p', 't'): 49,\n",
       " ('f', 'å'): 130,\n",
       " ('a', '.'): 265,\n",
       " ('r', 'y'): 81,\n",
       " ('T', 'a'): 8,\n",
       " ('k', 'y'): 103,\n",
       " ('y', 'm'): 27,\n",
       " ('g', 'ö'): 67,\n",
       " ('k', 'n'): 75,\n",
       " ('a', 'p'): 73,\n",
       " ('ö', 'p'): 35,\n",
       " ('p', 'n'): 29,\n",
       " ('f', 'y'): 21,\n",
       " ('y', 'r'): 93,\n",
       " ('r', 'm'): 96,\n",
       " ('r', 'n'): 341,\n",
       " ('a', 'k'): 151,\n",
       " ('s', 'p'): 152,\n",
       " ('p', 'e'): 169,\n",
       " ('å', 'l'): 104,\n",
       " ('g', 'i'): 147,\n",
       " ('F', 'a'): 5,\n",
       " ('v', 'u'): 43,\n",
       " ('l', 'r'): 22,\n",
       " ('f', 'o'): 116,\n",
       " ('t', 'f'): 41,\n",
       " ('m', 'h'): 15,\n",
       " ('M', 'u'): 20,\n",
       " ('y', 't'): 71,\n",
       " ('l', '.'): 56,\n",
       " ('e', 'x'): 6,\n",
       " ('x', 'a'): 11,\n",
       " ('k', 's'): 68,\n",
       " ('f', '.'): 32,\n",
       " ('m', 'g'): 54,\n",
       " ('m', 'u'): 47,\n",
       " ('s', 'r'): 40,\n",
       " ('M', 'e'): 181,\n",
       " ('å', ','): 85,\n",
       " ('u', 'f'): 53,\n",
       " ('i', 's'): 303,\n",
       " ('m', 'd'): 35,\n",
       " ('d', 'ö'): 80,\n",
       " ('ö', 'd'): 95,\n",
       " ('d', ','): 168,\n",
       " ('B', 'e'): 15,\n",
       " ('e', 'a'): 6,\n",
       " ('s', '?'): 4,\n",
       " ('T', 'ä'): 3,\n",
       " ('f', 't'): 166,\n",
       " ('f', ','): 20,\n",
       " ('j', 'o'): 81,\n",
       " ('d', 'b'): 11,\n",
       " ('V', 'ä'): 3,\n",
       " ('m', 'l'): 67,\n",
       " ('u', 'b'): 22,\n",
       " ('b', 'b'): 15,\n",
       " ('d', 't'): 146,\n",
       " ('o', ','): 23,\n",
       " ('H', 'u'): 19,\n",
       " ('r', 'h'): 26,\n",
       " ('s', 'm'): 74,\n",
       " ('m', 'å'): 165,\n",
       " ('H', 'o'): 279,\n",
       " ('m', 'k'): 27,\n",
       " ('t', 'ö'): 29,\n",
       " ('å', 'e'): 15,\n",
       " ('l', 'j'): 90,\n",
       " ('d', 'o'): 83,\n",
       " ('f', 'ä'): 72,\n",
       " ('n', 'y'): 60,\n",
       " ('m', '!'): 8,\n",
       " ('S', 'å'): 41,\n",
       " ('b', 'i'): 39,\n",
       " ('V', 'i'): 27,\n",
       " ('i', 'p'): 22,\n",
       " ('ä', 'c'): 87,\n",
       " ('n', '!'): 13,\n",
       " ('h', 'i'): 32,\n",
       " ('n', 'v'): 12,\n",
       " ('O', 'c'): 138,\n",
       " ('k', '.'): 51,\n",
       " ('D', 'ä'): 24,\n",
       " ('k', '!'): 1,\n",
       " ('n', 'ö'): 51,\n",
       " ('ö', 'j'): 66,\n",
       " ('V', 'a'): 8,\n",
       " ('g', 'n'): 53,\n",
       " ('o', 'ä'): 10,\n",
       " ('n', '?'): 21,\n",
       " ('s', 'v'): 119,\n",
       " ('e', 'p'): 22,\n",
       " ('b', 'ä'): 68,\n",
       " ('i', 'r'): 25,\n",
       " ('p', '.'): 10,\n",
       " ('»', 'Å'): 1,\n",
       " ('g', 'j'): 50,\n",
       " ('H', 'v'): 38,\n",
       " ('t', 'j'): 49,\n",
       " ('l', '?'): 2,\n",
       " ('s', 'u'): 23,\n",
       " ('B', 'a'): 9,\n",
       " ('j', 'l'): 26,\n",
       " ('o', 's'): 115,\n",
       " ('s', 'b'): 20,\n",
       " ('N', 'å'): 7,\n",
       " ('d', 'j'): 65,\n",
       " ('m', 's'): 42,\n",
       " ('G', 'j'): 1,\n",
       " ('Å', 'j'): 2,\n",
       " ('v', 'o'): 90,\n",
       " ('m', 'ö'): 74,\n",
       " ('ö', 't'): 56,\n",
       " ('y', 'n'): 60,\n",
       " ('.', '.'): 12,\n",
       " ('s', 'y'): 59,\n",
       " ('ö', '.'): 6,\n",
       " ('k', 'ä'): 151,\n",
       " ('m', 'n'): 53,\n",
       " ('D', 'å'): 60,\n",
       " ('i', 'm'): 33,\n",
       " ('ö', 'l'): 71,\n",
       " ('b', 'u'): 30,\n",
       " ('e', 'b'): 12,\n",
       " ('A', 't'): 1,\n",
       " ('å', 's'): 89,\n",
       " ('g', 'd'): 59,\n",
       " ('f', 'd'): 45,\n",
       " ('v', 'r'): 12,\n",
       " ('p', ','): 18,\n",
       " ('j', 'ö'): 31,\n",
       " ('J', 'u'): 19,\n",
       " ('g', 'v'): 2,\n",
       " ('p', 'l'): 58,\n",
       " ('ä', 'p'): 33,\n",
       " ('m', 'v'): 16,\n",
       " ('d', 'm'): 7,\n",
       " ('m', 'j'): 8,\n",
       " ('å', '.'): 27,\n",
       " ('B', 'l'): 52,\n",
       " ('ä', 'f'): 52,\n",
       " ('y', 'd'): 48,\n",
       " ('F', 'l'): 10,\n",
       " ('N', 'u'): 23,\n",
       " ('F', 'r'): 17,\n",
       " ('d', 'g'): 28,\n",
       " ('F', 'i'): 5,\n",
       " ('g', 'm'): 3,\n",
       " ('s', 'f'): 22,\n",
       " ('l', '–'): 1,\n",
       " ('d', 'h'): 5,\n",
       " ('m', 'p'): 18,\n",
       " ('d', 'f'): 14,\n",
       " ('d', '?'): 4,\n",
       " ('å', 'f'): 5,\n",
       " ('s', 'c'): 11,\n",
       " ('k', 'j'): 7,\n",
       " ('U', 'n'): 12,\n",
       " ('i', 'b'): 4,\n",
       " ('g', 'k'): 7,\n",
       " ('p', 'u'): 7,\n",
       " ('m', 'y'): 74,\n",
       " ('y', 'g'): 48,\n",
       " ('p', 'h'): 4,\n",
       " ('A', 'k'): 1,\n",
       " ('ö', 'm'): 79,\n",
       " ('t', 'n'): 44,\n",
       " ('e', '!'): 6,\n",
       " ('d', 'k'): 12,\n",
       " ('y', 'k'): 3,\n",
       " ('t', 'b'): 13,\n",
       " ('K', 'o'): 5,\n",
       " ('K', 'a'): 18,\n",
       " ('c', 'i'): 6,\n",
       " ('j', 'd'): 37,\n",
       " ('S', 'j'): 1,\n",
       " ('s', 'g'): 4,\n",
       " ('l', 'h'): 18,\n",
       " ('s', '.'): 37,\n",
       " ('f', 's'): 19,\n",
       " ('e', 'v'): 11,\n",
       " ('d', 'n'): 22,\n",
       " ('O', 'm'): 26,\n",
       " ('o', 'a'): 3,\n",
       " ('M', 'a'): 19,\n",
       " ('C', 'i'): 1,\n",
       " ('r', '!'): 6,\n",
       " ('I', 'b'): 2,\n",
       " ('m', 'b'): 12,\n",
       " ('e', 'c'): 11,\n",
       " ('K', 'u'): 4,\n",
       " ('p', 'm'): 6,\n",
       " ('T', 'r'): 4,\n",
       " ('J', 'o'): 3,\n",
       " ('V', 'å'): 4,\n",
       " ('n', 'l'): 30,\n",
       " ('L', 'ä'): 4,\n",
       " ('y', ','): 1,\n",
       " ('p', 'i'): 30,\n",
       " ('t', '!'): 10,\n",
       " ('e', 'z'): 1,\n",
       " ('z', '?'): 1,\n",
       " (',', 'v'): 1,\n",
       " ('r', '?'): 11,\n",
       " ('Ä', 'r'): 7,\n",
       " ('i', ','): 5,\n",
       " ('f', 'k'): 8,\n",
       " ('e', '?'): 11,\n",
       " ('n', 'p'): 2,\n",
       " ('N', 'e'): 22,\n",
       " ('T', 'å'): 2,\n",
       " ('s', 'ö'): 61,\n",
       " ('ö', 'k'): 65,\n",
       " ('k', ';'): 1,\n",
       " ('o', 'h'): 6,\n",
       " ('N', 'ä'): 5,\n",
       " ('g', 'h'): 24,\n",
       " ('_', '_'): 119,\n",
       " ('I', 'I'): 6,\n",
       " ('ö', 'a'): 3,\n",
       " ('M', 'ä'): 3,\n",
       " ('f', 'n'): 16,\n",
       " ('y', 'p'): 3,\n",
       " ('u', 'x'): 9,\n",
       " ('x', 'i'): 3,\n",
       " ('b', 'y'): 10,\n",
       " ('Ö', 'f'): 1,\n",
       " ('p', 'g'): 2,\n",
       " ('n', 'm'): 5,\n",
       " ('a', 'v'): 7,\n",
       " ('ö', 'b'): 3,\n",
       " ('G', 'a'): 1,\n",
       " ('Ä', 'f'): 1,\n",
       " ('g', 'f'): 59,\n",
       " ('x', 'n'): 2,\n",
       " ('V', 'e'): 5,\n",
       " ('o', 'v'): 6,\n",
       " ('G', 'e'): 15,\n",
       " ('b', 'å'): 19,\n",
       " ('ö', ','): 7,\n",
       " ('y', 'f'): 29,\n",
       " ('a', 'x'): 8,\n",
       " ('x', 'l'): 3,\n",
       " ('N', 'i'): 7,\n",
       " ('o', 'j'): 3,\n",
       " ('H', 'ö'): 10,\n",
       " ('x', 'e'): 9,\n",
       " ('å', 'h'): 1,\n",
       " ('S', 'n'): 2,\n",
       " ('j', '.'): 10,\n",
       " ('R', 'å'): 10,\n",
       " ('D', 'a'): 6,\n",
       " ('O', 'v'): 1,\n",
       " ('b', 'j'): 11,\n",
       " ('S', 'y'): 2,\n",
       " ('k', 'd'): 5,\n",
       " ('L', 'i'): 16,\n",
       " ('G', 'r'): 5,\n",
       " ('k', 'f'): 5,\n",
       " ('G', 'o'): 2,\n",
       " ('l', '!'): 2,\n",
       " ('g', '?'): 8,\n",
       " ('a', '?'): 12,\n",
       " ('m', '?'): 7,\n",
       " ('f', 'h'): 3,\n",
       " ('p', 'o'): 8,\n",
       " ('o', 'u'): 4,\n",
       " ('I', 'V'): 1,\n",
       " ('V', '.'): 2,\n",
       " ('v', 'ö'): 1,\n",
       " ('S', 'o'): 22,\n",
       " ('T', 'ö'): 3,\n",
       " ('T', 'i'): 2,\n",
       " ('p', 'ä'): 13,\n",
       " ('k', 'p'): 7,\n",
       " ('K', 'r'): 2,\n",
       " ('R', 'i'): 1,\n",
       " ('A', 'f'): 2,\n",
       " ('i', 'a'): 8,\n",
       " ('l', 'g'): 7,\n",
       " ('n', 'j'): 3,\n",
       " ('Ö', 'g'): 6,\n",
       " ('Ä', 'n'): 4,\n",
       " ('T', 'v'): 2,\n",
       " ('u', 'c'): 7,\n",
       " ('E', 'g'): 1,\n",
       " ('h', ','): 2,\n",
       " ('U', 's'): 1,\n",
       " ('a', 'b'): 17,\n",
       " ('a', '!'): 2,\n",
       " ('H', 'ä'): 15,\n",
       " ('s', 'd'): 9,\n",
       " ('y', 'ö'): 1,\n",
       " ('ä', 'b'): 2,\n",
       " ('E', 'j'): 1,\n",
       " ('E', 'f'): 2,\n",
       " ('T', 'o'): 2,\n",
       " ('N', 'y'): 1,\n",
       " ('P', 'r'): 5,\n",
       " ('L', 'j'): 3,\n",
       " ('S', 'l'): 2,\n",
       " ('y', 'x'): 1,\n",
       " ('x', 'h'): 1,\n",
       " ('f', 'm'): 2,\n",
       " ('j', 's'): 2,\n",
       " ('R', 'u'): 2,\n",
       " ('ä', 'h'): 3,\n",
       " ('C', 'a'): 2,\n",
       " ('S', 'a'): 2,\n",
       " ('o', '.'): 8,\n",
       " ('A', 'c'): 3,\n",
       " ('d', '!'): 2,\n",
       " ('a', ';'): 1,\n",
       " ('k', 'b'): 4,\n",
       " ('g', '!'): 4,\n",
       " ('R', 'ö'): 1,\n",
       " ('B', 'r'): 1,\n",
       " ('y', 'a'): 3,\n",
       " ('å', 'b'): 2,\n",
       " ('ä', ','): 1,\n",
       " ('f', 'j'): 3,\n",
       " ('d', 'y'): 6,\n",
       " ('M', 'o'): 11,\n",
       " ('p', 'y'): 1,\n",
       " ('k', 'å'): 5,\n",
       " ('t', 'h'): 3,\n",
       " ('B', 'å'): 1,\n",
       " ('F', 'o'): 2,\n",
       " ('u', '!'): 2,\n",
       " ('B', 'ä'): 2,\n",
       " ('l', 'é'): 7,\n",
       " ('é', 'n'): 6,\n",
       " ('K', 'l'): 2,\n",
       " ('A', 'n'): 30,\n",
       " ('G', 'å'): 3,\n",
       " ('u', '?'): 7,\n",
       " ('e', ';'): 1,\n",
       " ('F', 'e'): 1,\n",
       " ('p', 'k'): 3,\n",
       " ('E', 't'): 2,\n",
       " ('V', 'I'): 3,\n",
       " ('D', 'ö'): 5,\n",
       " ('p', 'ö'): 2,\n",
       " ('y', 'i'): 1,\n",
       " ('e', '’'): 1,\n",
       " ('’', 'n'): 1,\n",
       " ('o', 'o'): 1,\n",
       " ('j', 't'): 1,\n",
       " ('y', 'u'): 1,\n",
       " ('s', '-'): 1,\n",
       " ('-', 'k'): 1,\n",
       " ('D', 'i'): 2,\n",
       " ('o', 'e'): 1,\n",
       " ('n', ':'): 4,\n",
       " ('Å', 'n'): 4,\n",
       " ('S', 'ä'): 3,\n",
       " ('å', 'p'): 1,\n",
       " ('k', 'k'): 1,\n",
       " ('a', ':'): 2,\n",
       " ('é', 'e'): 1,\n",
       " ('Å', 't'): 2,\n",
       " ('S', 'k'): 4,\n",
       " ('V', 'o'): 1,\n",
       " ('Å', ','): 1,\n",
       " ('R', 'ä'): 1,\n",
       " ('U', 'r'): 1,\n",
       " ('i', '.'): 5,\n",
       " ('H', 'y'): 2,\n",
       " ('i', '!'): 1,\n",
       " ('K', 'n'): 1,\n",
       " ('P', 'i'): 3,\n",
       " ('å', '?'): 2,\n",
       " ('å', '!'): 1,\n",
       " ('s', '!'): 2,\n",
       " ('ö', 'h'): 1,\n",
       " ('d', 'p'): 1,\n",
       " ('y', 'o'): 1,\n",
       " ('I', 'c'): 2,\n",
       " ('T', 'y'): 4,\n",
       " ('I', 's'): 2,\n",
       " ('p', 'v'): 1,\n",
       " ('K', 'ö'): 1,\n",
       " ('p', '?'): 2,\n",
       " ('U', 't'): 3,\n",
       " ('I', 'X'): 1,\n",
       " ('X', '.'): 2,\n",
       " ('e', ':'): 2,\n",
       " ('K', 'i'): 1,\n",
       " ('P', 'a'): 2,\n",
       " ('j', '?'): 2,\n",
       " ('N', 'o'): 1,\n",
       " ('p', '!'): 1,\n",
       " ('K', 'ä'): 1,\n",
       " ('g', 'b'): 4,\n",
       " ('A', 's'): 2,\n",
       " ('O', 'l'): 8,\n",
       " ('»', 'L'): 2,\n",
       " ('n', '»'): 1,\n",
       " ('»', ','): 1,\n",
       " ('J', 'e'): 1,\n",
       " ('t', ':'): 1,\n",
       " ('p', 'j'): 2,\n",
       " ('v', 'é'): 2,\n",
       " ('é', 'r'): 3,\n",
       " ('å', 'm'): 3,\n",
       " ('x', ','): 1,\n",
       " ('o', 'å'): 1,\n",
       " ('i', 'u'): 1,\n",
       " ('c', 'e'): 2,\n",
       " ('u', 'e'): 2,\n",
       " ('t', '»'): 1,\n",
       " ('»', '.'): 1,\n",
       " ('j', 'k'): 1,\n",
       " ('o', 'z'): 1,\n",
       " ('z', 'a'): 1,\n",
       " ('g', 'y'): 1,\n",
       " ('M', 'ö'): 5,\n",
       " ('n', 'é'): 1,\n",
       " ('h', '!'): 1,\n",
       " ('h', '?'): 1,\n",
       " ('m', ':'): 1,\n",
       " ('t', 'p'): 1,\n",
       " ('g', ':'): 1,\n",
       " ('M', 'å'): 1}"
      ]
     },
     "execution_count": 15,
     "metadata": {},
     "output_type": "execute_result"
    }
   ],
   "source": [
    "pairs"
   ]
  },
  {
   "cell_type": "markdown",
   "metadata": {},
   "source": [
    "Determine the most frequent pair"
   ]
  },
  {
   "cell_type": "code",
   "execution_count": 16,
   "metadata": {},
   "outputs": [],
   "source": [
    "# write your code\n"
   ]
  },
  {
   "cell_type": "code",
   "execution_count": 17,
   "metadata": {},
   "outputs": [
    {
     "data": {
      "text/plain": [
       "('d', 'e')"
      ]
     },
     "execution_count": 17,
     "metadata": {},
     "output_type": "execute_result"
    }
   ],
   "source": [
    "most_freq_pair"
   ]
  },
  {
   "cell_type": "code",
   "execution_count": 18,
   "metadata": {},
   "outputs": [
    {
     "data": {
      "text/plain": [
       "'de'"
      ]
     },
     "execution_count": 18,
     "metadata": {},
     "output_type": "execute_result"
    }
   ],
   "source": [
    "''.join(most_freq_pair)"
   ]
  },
  {
   "cell_type": "markdown",
   "metadata": {},
   "source": [
    "#### The First Iteration"
   ]
  },
  {
   "cell_type": "markdown",
   "metadata": {},
   "source": [
    "We store the initial symbols in a `vocabulary` variable"
   ]
  },
  {
   "cell_type": "code",
   "execution_count": 19,
   "metadata": {},
   "outputs": [],
   "source": [
    "vocabulary = initial_vocabulary(corpus_l)"
   ]
  },
  {
   "cell_type": "code",
   "execution_count": 20,
   "metadata": {},
   "outputs": [
    {
     "data": {
      "text/plain": [
       "67"
      ]
     },
     "execution_count": 20,
     "metadata": {},
     "output_type": "execute_result"
    }
   ],
   "source": [
    "len(vocabulary)"
   ]
  },
  {
   "cell_type": "markdown",
   "metadata": {},
   "source": [
    "Add your most frequent pair to the vocabulary after one iteration"
   ]
  },
  {
   "cell_type": "code",
   "execution_count": 21,
   "metadata": {},
   "outputs": [],
   "source": [
    "# write your code here\n"
   ]
  },
  {
   "cell_type": "code",
   "execution_count": 22,
   "metadata": {},
   "outputs": [
    {
     "data": {
      "text/plain": [
       "68"
      ]
     },
     "execution_count": 22,
     "metadata": {},
     "output_type": "execute_result"
    }
   ],
   "source": [
    "len(vocabulary)"
   ]
  },
  {
   "cell_type": "markdown",
   "metadata": {},
   "source": [
    "#### Incremental Construction\n",
    "We will now incrementally build the vocabulary."
   ]
  },
  {
   "cell_type": "markdown",
   "metadata": {},
   "source": [
    "Create a `merge_bigrams()` function that takes a list of tokens, `corpus_l`, and a pair of subword tokens `(token_r, token_l)` as input and merges adjacent sequences token_r, token_l into a new token, `token_new`, replacing the sequence `token_r, token_l` in `corpus_l`. Your function will return a new list. "
   ]
  },
  {
   "cell_type": "markdown",
   "metadata": {},
   "source": [
    "Given the input \n",
    "\n",
    "`corpus_l = ['D', 'e', ' ', 's', 'e', 'n', 'a', 's', 't', ...]`\n",
    "\n",
    "`merge_bigrams(corpus_l, ('e', 'n'))` should return where all the seuquences of 'e' and 'n' have been merged:\n",
    "\n",
    "`['D', 'e', ' ', 's', 'en', 'a', 's', 't', ...]`\n",
    "\n",
    "And reapplying `merge_bigrams(corpus_l, ('s', 'en'))` to this corpus should return\n",
    "\n",
    "`['D', 'e', ' ', 'sen', 'a', 's', 't', ...]`\n",
    "\n",
    "You will apply a greedy algorithm. Given the pair ('a', 'a') and the list ['a', 'a', 'a'], the result will be: ['aa', 'a']"
   ]
  },
  {
   "cell_type": "code",
   "execution_count": 23,
   "metadata": {},
   "outputs": [],
   "source": [
    "# Write your code here\n"
   ]
  },
  {
   "cell_type": "code",
   "execution_count": 24,
   "metadata": {},
   "outputs": [
    {
     "data": {
      "text/plain": [
       "['D', 'e', ' ', 's', 'en', 'a', 's', 't']"
      ]
     },
     "execution_count": 24,
     "metadata": {},
     "output_type": "execute_result"
    }
   ],
   "source": [
    "corpus_test = ['D', 'e', ' ', 's', 'e', 'n', 'a', 's', 't']\n",
    "merge_bigrams(corpus_test, ('e', 'n'))"
   ]
  },
  {
   "cell_type": "code",
   "execution_count": 25,
   "metadata": {},
   "outputs": [
    {
     "data": {
      "text/plain": [
       "['D', 'e', ' ', 'sen', 'a', 's', 't']"
      ]
     },
     "execution_count": 25,
     "metadata": {},
     "output_type": "execute_result"
    }
   ],
   "source": [
    "merge_bigrams(merge_bigrams(corpus_test, ('e', 'n')), ('s', 'en'))"
   ]
  },
  {
   "cell_type": "markdown",
   "metadata": {},
   "source": [
    "#### Byte Pair Encoding (BPE): Building the Vocabulary"
   ]
  },
  {
   "cell_type": "markdown",
   "metadata": {},
   "source": [
    "Write now a `BPE()` function following Algorithm 1 in _Byte Pair Encoding is Suboptimal for Language Model Pretraining_ by Bostrom and Durrett (2020). \n",
    "\n",
    "Your function will take `corpus_l` and the vocabulary size `k` as input. This size `k` will correspond to the count of new subwords added to the initial list of symbols. With your initial corpus, you should have 67 found symbols. With `k = 10`, you will add 10 subwords to this initial list. Note that Bostrom and Durrett (2020) define their $k_\\text{Bostrom and Durrett}$ as `k + initial vocabulary`. \n",
    "\n",
    "Return the vocabulary of subword tokens in the form of a list: the initial vocabulary and the subwords you will create.\n",
    "\n",
    "You will start from the initial vocabulary and `k` will be the number of symbols you add to this vocabulary."
   ]
  },
  {
   "cell_type": "code",
   "execution_count": 26,
   "metadata": {},
   "outputs": [],
   "source": [
    "# Write your code here\n"
   ]
  },
  {
   "cell_type": "markdown",
   "metadata": {},
   "source": [
    "We build a vocabulary of 50 subwords in addition to our initial set of symbols"
   ]
  },
  {
   "cell_type": "code",
   "execution_count": 27,
   "metadata": {},
   "outputs": [
    {
     "name": "stdout",
     "output_type": "stream",
     "text": [
      "de en an tt ar st om on ll ör att ch ade ig er ng och var hon et för sk är ck han or na det ne så än in ej un ill den som fv på ed ag li enne henne id ra hade all ing ta "
     ]
    },
    {
     "data": {
      "text/plain": [
       "{'!',\n",
       " ',',\n",
       " '-',\n",
       " '.',\n",
       " '1',\n",
       " '8',\n",
       " '9',\n",
       " ':',\n",
       " ';',\n",
       " '?',\n",
       " 'A',\n",
       " 'B',\n",
       " 'C',\n",
       " 'D',\n",
       " 'E',\n",
       " 'F',\n",
       " 'G',\n",
       " 'H',\n",
       " 'I',\n",
       " 'J',\n",
       " 'K',\n",
       " 'L',\n",
       " 'M',\n",
       " 'N',\n",
       " 'O',\n",
       " 'P',\n",
       " 'R',\n",
       " 'S',\n",
       " 'T',\n",
       " 'U',\n",
       " 'V',\n",
       " 'X',\n",
       " '_',\n",
       " 'a',\n",
       " 'ade',\n",
       " 'ag',\n",
       " 'all',\n",
       " 'an',\n",
       " 'ar',\n",
       " 'att',\n",
       " 'b',\n",
       " 'c',\n",
       " 'ch',\n",
       " 'ck',\n",
       " 'd',\n",
       " 'de',\n",
       " 'den',\n",
       " 'det',\n",
       " 'e',\n",
       " 'ed',\n",
       " 'ej',\n",
       " 'en',\n",
       " 'enne',\n",
       " 'er',\n",
       " 'et',\n",
       " 'f',\n",
       " 'fv',\n",
       " 'för',\n",
       " 'g',\n",
       " 'h',\n",
       " 'hade',\n",
       " 'han',\n",
       " 'henne',\n",
       " 'hon',\n",
       " 'i',\n",
       " 'id',\n",
       " 'ig',\n",
       " 'ill',\n",
       " 'in',\n",
       " 'ing',\n",
       " 'j',\n",
       " 'k',\n",
       " 'l',\n",
       " 'li',\n",
       " 'll',\n",
       " 'm',\n",
       " 'n',\n",
       " 'na',\n",
       " 'ne',\n",
       " 'ng',\n",
       " 'o',\n",
       " 'och',\n",
       " 'om',\n",
       " 'on',\n",
       " 'or',\n",
       " 'p',\n",
       " 'på',\n",
       " 'r',\n",
       " 'ra',\n",
       " 's',\n",
       " 'sk',\n",
       " 'som',\n",
       " 'st',\n",
       " 'så',\n",
       " 't',\n",
       " 'ta',\n",
       " 'tt',\n",
       " 'u',\n",
       " 'un',\n",
       " 'v',\n",
       " 'var',\n",
       " 'x',\n",
       " 'y',\n",
       " 'z',\n",
       " '»',\n",
       " 'Ä',\n",
       " 'Å',\n",
       " 'Ö',\n",
       " 'ä',\n",
       " 'än',\n",
       " 'är',\n",
       " 'å',\n",
       " 'é',\n",
       " 'ö',\n",
       " 'ör',\n",
       " '–',\n",
       " '’'}"
      ]
     },
     "execution_count": 27,
     "metadata": {},
     "output_type": "execute_result"
    }
   ],
   "source": [
    "vocabulary = BPE(corpus_l, 50)\n",
    "vocabulary"
   ]
  },
  {
   "cell_type": "code",
   "execution_count": 28,
   "metadata": {},
   "outputs": [
    {
     "data": {
      "text/plain": [
       "117"
      ]
     },
     "execution_count": 28,
     "metadata": {},
     "output_type": "execute_result"
    }
   ],
   "source": [
    "len(vocabulary)"
   ]
  },
  {
   "cell_type": "markdown",
   "metadata": {},
   "source": [
    "#### BPE Tokenizer"
   ]
  },
  {
   "cell_type": "markdown",
   "metadata": {},
   "source": [
    "You will now use the vocabulary you obtained to tokenize a text stored in the corpus string.\n",
    "\n",
    "You will implement a greedy technique building on Python's regular expression engine. You will call this function `tokenize_bpe()` that will take two inputs: `corpus` and `vocabulary`, and that will return the tokenized text in the form of a list.\n",
    "\n",
    "    def tokenize_bpe(corpus, vocabulary):\n",
    "\n",
    "      ...\n",
    "\n",
    "      return tokens\n",
    "Here are a few hints on how to write this function. Before you call a regular expression and apply it to a text, a regex engine compiles it into an efficient automaton (you do not need to call `compile()` as the automaton is automatically cached). The only thing you have to take care of is the length order of the strings. In the tokenization function:\n",
    "\n",
    "1. Write a statement to order the strings in your vocabulary list,\n",
    "  * first by decreasing length, and then\n",
    "  * by alphabetic order.\n",
    "  \n",
    "  You will call this list `vocabulary_srt`; Knowing that, in the ASCII order, the upper case letters are placed before lower case ones, the list: ['D', 'e', 'sen', 'a', 's', 't']\n",
    "\n",
    "will be sorted as: ['sen', 'D', 'a', 'e', 's', 't']\n",
    "\n",
    "2. Escape the regular expression with `re.escape()` as some strings may include metacharacters, for instance 'a.', where the dot matches all the characters.\n",
    "3. Convert this list into a regular expression that results in a disjunction of subword tokens. Remember that the disjunction operator (or) for regular expressions is the vertical bar (`|`), as in `'a'|'b'`, meaning match `'a'` or `'b'`;\n",
    "3. Apply a regular expression function to tokenize your text: the corpus string. You will use `findall()`for this. You will return this result."
   ]
  },
  {
   "cell_type": "code",
   "execution_count": 29,
   "metadata": {},
   "outputs": [
    {
     "data": {
      "text/plain": [
       "'a\\\\.'"
      ]
     },
     "execution_count": 29,
     "metadata": {},
     "output_type": "execute_result"
    }
   ],
   "source": [
    "re.escape('a.')"
   ]
  },
  {
   "cell_type": "code",
   "execution_count": 30,
   "metadata": {},
   "outputs": [],
   "source": [
    "# Write your code here\n"
   ]
  },
  {
   "cell_type": "code",
   "execution_count": 31,
   "metadata": {},
   "outputs": [
    {
     "name": "stdout",
     "output_type": "stream",
     "text": [
      "['S', 'e', 'l', 'm', 'a', 'L', 'ag', 'er', 'l', 'ö', 'f', 'E', 'n', 'h', 'er', 'r', 'g', 'å', 'r', 'd', 's', 's', 'ä', 'g', 'en', 'B', 'o', 'k', 'u', 't', 'g', 'å', 'v', 'a', 'A', 'l', 'b', 'er', 't', 'B', 'on', 'n', 'i', 'er', 's', 'för', 'l', 'ag', ',', 'S', 't', 'o', 'ck', 'h', 'o', 'l', 'm', '1', '8', '9', '9', '.', 'I', '.', 'D', 'et', 'var', 'en', 'sk', 'ö', 'n', 'h', 'ö', 'st', 'd', 'ag', 'h', 'än', 'e', 'm', 'o', 't', 's', 'l', 'u', 't', 'et', 'a', 'f', 't', 'r', 'et', 't', 'i', 'o', 'ta', 'l', 'et', '.', 'P', 'å', 'den', 't', 'id', 'en', 'f', 'an', 'n', 's', 'i', 'U', 'p', 's', 'a', 'l', 'a', 'et', 't', 'h', 'ö', 'g', 't', ',', 'g', 'u', 'l', 't', 't', 'v', 'å', 'v', 'å', 'n', 'ing', 's', 'h', 'u', 's', ',', 'som', 'st', 'o', 'd', 'un', 'de', 'r', 'li', 'g', 't', 'en', 's', 'a', 'm', 't', 'på', 'en', 'li', 't', 'en', 'än', 'g', ',', 'l', 'å', 'ng', 't', 'b', 'or', 'ta', 'i', 'en', 'u', 't', 'k', 'an', 't', 'a', 'f', 'st', 'ade', 'n', '.', 'D', 'et', 'var', 'et', 't', 'r', 'ä', 'tt', 'r', 'u', 'sk', 'ig', 't', 'och', 'o', 't', 'r', 'e']\n"
     ]
    }
   ],
   "source": [
    "print(tokenize_bpe(corpus, vocabulary)[:200])"
   ]
  },
  {
   "cell_type": "markdown",
   "metadata": {},
   "source": [
    "## Unigram Language Model"
   ]
  },
  {
   "cell_type": "markdown",
   "metadata": {},
   "source": [
    "You are now done with BPE and you can now consider the unigram language model.\n",
    "\n",
    "Read these two sections:\n",
    "\n",
    "1. Section 3.2 of _Subword Regularization: Improving Neural Network Translation Models with Multiple Subword Candidates_ (https://arxiv.org/pdf/1804.10959.pdf) by Kudo (2018).\n",
    "2. Section 2, algorithm 2 and the related text of _Byte Pair Encoding is Suboptimal for Language Model Pretraining_ (https://aclanthology.org/2020.findings-emnlp.414.pdf) by Bostrom and Durrett (2020).\n",
    "\n",
    "In your report, **summarize** (10 to 15 lines or so) with your own words the tokenization with a unigram language model as described by by Kudo (2018) and Bostrom and Durrett (2020). You will notably consider two aspects:\n",
    "1. How to obtain the subword vocabulary;\n",
    "2. How to tokenize a text."
   ]
  },
  {
   "cell_type": "markdown",
   "metadata": {},
   "source": [
    "In your report, given what you have done on the byte-pair encoding, how would you build the “reasonably big seed vocabulary” needed for the unigram language model?"
   ]
  },
  {
   "cell_type": "markdown",
   "metadata": {},
   "source": [
    "### Unigram Probabilities"
   ]
  },
  {
   "cell_type": "markdown",
   "metadata": {},
   "source": [
    "Starting from the “reasonably big seed vocabulary”, you will now fit a unigram language model. You will start with a vocabulary of 50 subwords in addition to the character set and reduce it to 49, i.e. you will find one subword to discard.\n",
    "\n",
    "Kudo (2018) proposes the expectation-maximization algorithm that we have not seen in the course on natural language processing. Instead, in this lab, you will approximate the language model with the BPE algorithm.\n",
    "\n",
    "Write a `unigram_lm()` function that takes a corpus string and a vocabulary of subword tokens as input and returns a dictionary, where the keys are the subwords and each key value, the key relative frequency:\n",
    "\n",
    "    def unigram_lm(corpus, vocabulary):\n",
    "\n",
    "       ...\n",
    "\n",
    "      return unigram_probs\n",
    "Your function will:\n",
    "\n",
    "1. Tokenize your corpus with BPE (you can reuse the `tokenize_bpe()` function);\n",
    "2. Estimate the probability of each word (simply count the occurrences of the subwords and divide them by the length of the tokenized corpus);\n",
    "3. Return this model as a dictionary."
   ]
  },
  {
   "cell_type": "code",
   "execution_count": 32,
   "metadata": {},
   "outputs": [],
   "source": [
    "# Write your code here\n"
   ]
  },
  {
   "cell_type": "code",
   "execution_count": 33,
   "metadata": {},
   "outputs": [
    {
     "data": {
      "text/plain": [
       "{'S': 0.0017218346445005196,\n",
       " 'e': 0.02772747513730147,\n",
       " 'l': 0.028687348473603484,\n",
       " 'm': 0.028835782494681113,\n",
       " 'a': 0.040186037306417295,\n",
       " 'L': 0.0003760328533966652,\n",
       " 'ag': 0.004017614170501212,\n",
       " 'er': 0.010360694671218643,\n",
       " 'ö': 0.010083617831873733,\n",
       " 'f': 0.020790658552273515,\n",
       " 'E': 0.0002671812379397358,\n",
       " 'n': 0.0172579288506259,\n",
       " 'h': 0.015773588639849588,\n",
       " 'r': 0.03131957844738014,\n",
       " 'g': 0.03128989164316461,\n",
       " 'å': 0.021255751818316758,\n",
       " 'd': 0.029498787788827866,\n",
       " 's': 0.03803869180149424,\n",
       " 'ä': 0.013754885953193805,\n",
       " 'en': 0.023838503785067536,\n",
       " 'B': 0.0008114393152243828,\n",
       " 'o': 0.015832962248280638,\n",
       " 'k': 0.02452130028202464,\n",
       " 'u': 0.020948988174756322,\n",
       " 't': 0.044886447973875615,\n",
       " 'v': 0.01462569887684924,\n",
       " 'A': 0.0006234228885260501,\n",
       " 'b': 0.01510068774429766,\n",
       " 'on': 0.005719657612191381,\n",
       " 'i': 0.019652664390678344,\n",
       " 'för': 0.009074266488545842,\n",
       " ',': 0.027133739052990945,\n",
       " 'ck': 0.007857107515709267,\n",
       " '1': 9.8956014051754e-06,\n",
       " '8': 9.8956014051754e-06,\n",
       " '9': 1.97912028103508e-05,\n",
       " '.': 0.02215625154618772,\n",
       " 'I': 0.003117114442630251,\n",
       " 'D': 0.005492058779872347,\n",
       " 'et': 0.011805452476374252,\n",
       " 'var': 0.009885705803770224,\n",
       " 'sk': 0.008262827173321458,\n",
       " 'st': 0.016149621493246252,\n",
       " 'än': 0.007332640641234971,\n",
       " 'ta': 0.007174311018752165,\n",
       " 'P': 0.00023749443372420958,\n",
       " 'den': 0.00520508633912226,\n",
       " 'id': 0.004680619464647964,\n",
       " 'an': 0.014447578051556083,\n",
       " 'U': 0.0002572856365345604,\n",
       " 'p': 0.012092424917124337,\n",
       " 'ing': 0.003740537331156301,\n",
       " 'som': 0.005363415961605066,\n",
       " 'un': 0.006639948542872693,\n",
       " 'de': 0.015160061352728712,\n",
       " 'li': 0.008876354460442333,\n",
       " 'på': 0.005165503933501558,\n",
       " 'ng': 0.0045123942407599826,\n",
       " 'or': 0.00731284943842462,\n",
       " 'ade': 0.006540992528820939,\n",
       " 'tt': 0.005036861115234278,\n",
       " 'ig': 0.007896689921329969,\n",
       " 'och': 0.01073672752461531,\n",
       " 'det': 0.007342536242640146,\n",
       " 'na': 0.008480530404235317,\n",
       " 'in': 0.005986838850131117,\n",
       " 'x': 0.0004057196576121914,\n",
       " 'är': 0.008104497550838653,\n",
       " 'så': 0.0058878828360793625,\n",
       " 'att': 0.012597100588788284,\n",
       " 'all': 0.003968136163475335,\n",
       " 'om': 0.010568502300727327,\n",
       " 'ra': 0.005818613626243135,\n",
       " 'fv': 0.005581119192518925,\n",
       " 'H': 0.0074414922566919004,\n",
       " 'ar': 0.008312305180347335,\n",
       " 'ed': 0.005976943248725941,\n",
       " 'han': 0.007332640641234971,\n",
       " 'ill': 0.0051160259264756815,\n",
       " 'ne': 0.002523378358319727,\n",
       " 'hade': 0.004017614170501212,\n",
       " 'y': 0.0072435802285883925,\n",
       " 'll': 0.006263915689476028,\n",
       " 'hon': 0.010113304636089258,\n",
       " '–': 0.0055019543812775224,\n",
       " 'j': 0.009707584978477067,\n",
       " '?': 0.0011775765672158726,\n",
       " 'Å': 0.0004551976646380684,\n",
       " 'J': 0.0011775765672158726,\n",
       " 'ej': 0.005709762010786205,\n",
       " ':': 0.00011874721686210479,\n",
       " 'G': 0.0006729008955519271,\n",
       " 'F': 0.0005640492800949978,\n",
       " 'ör': 0.0039582405620701595,\n",
       " 'M': 0.0024541091484834993,\n",
       " 'T': 0.00029686804215526197,\n",
       " 'V': 0.0005244668744742962,\n",
       " '!': 0.0006234228885260501,\n",
       " 'O': 0.0017119390430953441,\n",
       " 'ch': 0.0014744446093711346,\n",
       " 'enne': 0.00011874721686210479,\n",
       " '»': 4.9478007025877e-05,\n",
       " 'N': 0.0006531096927415764,\n",
       " 'henne': 0.00445302063232893,\n",
       " 'K': 0.00034634604918113896,\n",
       " 'c': 7.91648112414032e-05,\n",
       " 'C': 2.9686804215526198e-05,\n",
       " 'z': 1.97912028103508e-05,\n",
       " 'Ä': 0.00011874721686210479,\n",
       " ';': 2.9686804215526198e-05,\n",
       " '_': 0.0013458017911038543,\n",
       " 'Ö': 6.92692098362278e-05,\n",
       " 'R': 0.00014843402107763098,\n",
       " 'é': 9.8956014051754e-05,\n",
       " '’': 9.8956014051754e-06,\n",
       " '-': 9.8956014051754e-06,\n",
       " 'X': 1.97912028103508e-05}"
      ]
     },
     "execution_count": 33,
     "metadata": {},
     "output_type": "execute_result"
    }
   ],
   "source": [
    "unigram_probs = unigram_lm(corpus, vocabulary)\n",
    "unigram_probs"
   ]
  },
  {
   "cell_type": "code",
   "execution_count": 34,
   "metadata": {},
   "outputs": [
    {
     "data": {
      "text/plain": [
       "117"
      ]
     },
     "execution_count": 34,
     "metadata": {},
     "output_type": "execute_result"
    }
   ],
   "source": [
    "len(unigram_probs)"
   ]
  },
  {
   "cell_type": "markdown",
   "metadata": {},
   "source": [
    "### Unigram Tokenization"
   ]
  },
  {
   "cell_type": "markdown",
   "metadata": {},
   "source": [
    "You will now apply your unigram language model to tokenize a character sequence that does not include spaces, typically a single word in the Latin or Greek scripts or a sequence of words in Asian scripts, like Chinese or Korean.\n",
    "\n",
    "Write a `tokenize_lm()` function that takes a character sequence, `char_seq`, and a dictionary of unigram probabilities, `unigram_probs`,  as input and returns the subword tokens and the segmentation probability, (prob,tokens). You will only return the token list with the highest probability.\n",
    "\n",
    "    def tokenize_lm(char_seq, unigram_probs):\n",
    "\n",
    "      ...\n",
    "\n",
    "      return max(candidates)\n",
    "\n",
    "As an example, applying \n",
    "\n",
    "tokenize_lm('senare', unigram_probs)\n",
    "results in\n",
    "\n",
    "`(2.0899522820189735e-07, ['s', 'en', 'ar', 'e'])`\n",
    "\n",
    "Your function will cache (memoize) the results to speed up the computation. It will be similar to that of Norvig's in the notebook: How to Do Things with Words.ipynb. You can reuse it.\n",
    "Python has a built-in memoization function that you can use: @functools.lru_cache(maxsize=2**10). You can also use the newer @functools.cache() function if you have Python 3.9 or higher. See here: https://docs.python.org/3/library/functools.html."
   ]
  },
  {
   "cell_type": "code",
   "execution_count": 35,
   "metadata": {},
   "outputs": [],
   "source": [
    "import functools\n",
    "\n",
    "def tokenize_lm(char_seq, unigram_probs):\n",
    "    # Use one of the two cache functions below to have a faster answer:  \n",
    "    # @functools.lru_cache(maxsize=2**10)\n",
    "    @functools.cache # Available from Python 3.9\n",
    "    # The arguments of the cached function must be hashable that's why we define an inner cacheable function\n",
    "    def __tokenize_lm(char_seq):\n",
    "    # Write your code here\n",
    "    \n",
    "    return __tokenize_lm(char_seq)"
   ]
  },
  {
   "cell_type": "code",
   "execution_count": 36,
   "metadata": {},
   "outputs": [
    {
     "data": {
      "text/plain": [
       "(2.0899522820189735e-07, ['s', 'en', 'ar', 'e'])"
      ]
     },
     "execution_count": 36,
     "metadata": {},
     "output_type": "execute_result"
    }
   ],
   "source": [
    "tokenize_lm('senare', unigram_probs)"
   ]
  },
  {
   "cell_type": "markdown",
   "metadata": {},
   "source": [
    "### Text Tokenization with Unigrams"
   ]
  },
  {
   "cell_type": "markdown",
   "metadata": {},
   "source": [
    "The previous function applies to a sequence without spaces. You will now apply it to your corpus. Write a `tokenize_text_lm()` function that takes the whole `corpus` string as input and the unigram probabilities `unigram_probs` and return the corpus probability and the tokenized subwords. \n",
    "\n",
    "This function is just an application of the functions you just wrote, where you will:\n",
    "1. `split()` the string by whitespaces\n",
    "2. Break the tokens into subtokens and compute the probabilities of the resulting sequences;\n",
    "3. Sum the logarithm of these probabilities. Use log10 to check your output with the numbers in the notebook. \n",
    "\n",
    "It is very significant that you use the logarithm of the probabilities and the sum. If you multiply the probabilities, you will get an underflow."
   ]
  },
  {
   "cell_type": "code",
   "execution_count": 37,
   "metadata": {},
   "outputs": [],
   "source": [
    "# Write your code\n"
   ]
  },
  {
   "cell_type": "code",
   "execution_count": 38,
   "metadata": {},
   "outputs": [],
   "source": [
    "init_loglikelihood, tokens = tokenize_text_lm(corpus, unigram_probs)"
   ]
  },
  {
   "cell_type": "code",
   "execution_count": 39,
   "metadata": {},
   "outputs": [
    {
     "data": {
      "text/plain": [
       "(-183398.9777556855, ['_S', 'e', 'l', 'm', 'a', '_L', 'ag', 'er', 'l', 'ö'])"
      ]
     },
     "execution_count": 39,
     "metadata": {},
     "output_type": "execute_result"
    }
   ],
   "source": [
    "init_loglikelihood, tokens[:10]"
   ]
  },
  {
   "cell_type": "markdown",
   "metadata": {},
   "source": [
    "### Vocabulary Selection"
   ]
  },
  {
   "cell_type": "markdown",
   "metadata": {},
   "source": [
    "You will now implement the final loop, where you will, at each iteration:\n",
    "1. Select one subword from the vocabulary.\n",
    "2. Compute the resulting log-likelihood of the corpus without this word.\n",
    "3. Compute the loss, i.e. the log-likelihood reduction when the subword is removed from the current vocabulary\n",
    "\n",
    "You will always keep the single characters in your vocabulary to avoid unknown words.\n",
    "\n",
    "Store the pairs, (log-likelihood, removed_subword) in a list `logloss_word` and rank them by likelihood value."
   ]
  },
  {
   "cell_type": "code",
   "execution_count": 40,
   "metadata": {},
   "outputs": [],
   "source": [
    "logloss_word = []"
   ]
  },
  {
   "cell_type": "code",
   "execution_count": 41,
   "metadata": {},
   "outputs": [
    {
     "name": "stderr",
     "output_type": "stream",
     "text": [
      "100%|██████████| 117/117 [00:35<00:00,  3.32it/s]\n"
     ]
    }
   ],
   "source": [
    "# Write your code here\n"
   ]
  },
  {
   "cell_type": "code",
   "execution_count": 42,
   "metadata": {},
   "outputs": [
    {
     "data": {
      "text/plain": [
       "[(-92.75720750979963, 'tt'),\n",
       " (-63.05992010710179, 'ne'),\n",
       " (-38.08057148766238, 'ta'),\n",
       " (2.0738454080710653, 'enne'),\n",
       " (12.061332144396147, 'ag'),\n",
       " (20.017389423010172, 'ra'),\n",
       " (71.24347190588014, 'li'),\n",
       " (117.21043151628692, 'll'),\n",
       " (133.63334921817295, 'ed'),\n",
       " (169.48387613904197, 'id'),\n",
       " (172.16923521881108, 'ör'),\n",
       " (178.6423015303153, 'ng'),\n",
       " (192.93231688259402, 'ar'),\n",
       " (203.4787342007039, 'så'),\n",
       " (227.7244415571622, 'na'),\n",
       " (251.89493320914335, 'ch'),\n",
       " (263.89934408143745, 'all'),\n",
       " (264.8709145585017, 'ing'),\n",
       " (283.4139082902111, 'den'),\n",
       " (307.6344156662235, 'som'),\n",
       " (327.0449843176466, 'ade'),\n",
       " (337.8945769118727, 'sk'),\n",
       " (340.5907729867322, 'in'),\n",
       " (341.17597176364507, 'det'),\n",
       " (367.542386146466, 'fv'),\n",
       " (368.11862880177796, 'un'),\n",
       " (379.358788624726, 'et'),\n",
       " (379.7334326027485, 'hade'),\n",
       " (385.8579164824914, 'på'),\n",
       " (424.2208616450662, 'or'),\n",
       " (435.2485914659337, 'ig'),\n",
       " (437.26840572143556, 'ej'),\n",
       " (442.5478414479294, 'on'),\n",
       " (514.6311576679873, 'än'),\n",
       " (526.9518980007851, 'ill'),\n",
       " (527.4943999194656, 'är'),\n",
       " (530.3054780279926, 'er'),\n",
       " (587.3956144750409, 'st'),\n",
       " (618.3174647506967, 'han'),\n",
       " (756.835276351223, 'henne'),\n",
       " (758.291451588535, 'de'),\n",
       " (791.0982600485149, 'om'),\n",
       " (1052.537279649172, 'an'),\n",
       " (1112.5860845244024, 'för'),\n",
       " (1156.3321440056025, 'var'),\n",
       " (1210.448145978793, 'ck'),\n",
       " (1270.4310848153254, 'hon'),\n",
       " (1278.6004571144003, 'att'),\n",
       " (1626.115018239827, 'och'),\n",
       " (2125.689752567967, 'en')]"
      ]
     },
     "execution_count": 42,
     "metadata": {},
     "output_type": "execute_result"
    }
   ],
   "source": [
    "sorted(logloss_word)"
   ]
  },
  {
   "cell_type": "markdown",
   "metadata": {},
   "source": [
    "You will reduce now your vocabulary by one token: `out_candidate`. Write the piece of code to determine it."
   ]
  },
  {
   "cell_type": "code",
   "execution_count": 43,
   "metadata": {},
   "outputs": [],
   "source": [
    "# Write your code here\n"
   ]
  },
  {
   "cell_type": "code",
   "execution_count": 1,
   "metadata": {},
   "outputs": [
    {
     "ename": "NameError",
     "evalue": "name 'out_candidate' is not defined",
     "output_type": "error",
     "traceback": [
      "\u001b[0;31m---------------------------------------------------------------------------\u001b[0m",
      "\u001b[0;31mNameError\u001b[0m                                 Traceback (most recent call last)",
      "\u001b[1;32m/Users/pierre/Documents/Cours/EDAN20/programmes TP/tokenizer/5-BPE.ipynb Cellule 87\u001b[0m in \u001b[0;36m<cell line: 1>\u001b[0;34m()\u001b[0m\n\u001b[0;32m----> <a href='vscode-notebook-cell:/Users/pierre/Documents/Cours/EDAN20/programmes%20TP/tokenizer/5-BPE.ipynb#Y152sZmlsZQ%3D%3D?line=0'>1</a>\u001b[0m out_candidate\n",
      "\u001b[0;31mNameError\u001b[0m: name 'out_candidate' is not defined"
     ]
    }
   ],
   "source": [
    "out_candidate"
   ]
  },
  {
   "cell_type": "markdown",
   "metadata": {},
   "source": [
    "If you are interested, you can improve this program and test it on larger corpora. You can also read a fine implementation of BPE by Andrej Karpathy: https://github.com/karpathy/minGPT/blob/master/mingpt/bpe.py"
   ]
  },
  {
   "cell_type": "markdown",
   "metadata": {},
   "source": [
    "## Submission"
   ]
  },
  {
   "cell_type": "markdown",
   "metadata": {},
   "source": [
    "When you have written all the code and run all the cells, fill in your ID and as well as the name of the notebook."
   ]
  },
  {
   "cell_type": "code",
   "execution_count": 45,
   "metadata": {},
   "outputs": [],
   "source": [
    "STIL_ID = [\"student_1\", \"student_2\"] # Write your stil ids as a list\n",
    "CURRENT_NOTEBOOK_PATH = os.path.join(os.getcwd(), \n",
    "                                     \"5-BPE_solution.ipynb\") # Write the name of your notebook"
   ]
  },
  {
   "cell_type": "markdown",
   "metadata": {},
   "source": [
    "The submission code will send your answer. It consists of the subword to discard."
   ]
  },
  {
   "cell_type": "code",
   "execution_count": 2,
   "metadata": {},
   "outputs": [
    {
     "ename": "NameError",
     "evalue": "name 'out_candidate' is not defined",
     "output_type": "error",
     "traceback": [
      "\u001b[0;31m---------------------------------------------------------------------------\u001b[0m",
      "\u001b[0;31mNameError\u001b[0m                                 Traceback (most recent call last)",
      "\u001b[1;32m/Users/pierre/Documents/Cours/EDAN20/programmes TP/tokenizer/5-BPE.ipynb Cellule 93\u001b[0m in \u001b[0;36m<cell line: 2>\u001b[0;34m()\u001b[0m\n\u001b[1;32m      <a href='vscode-notebook-cell:/Users/pierre/Documents/Cours/EDAN20/programmes%20TP/tokenizer/5-BPE.ipynb#Y161sZmlsZQ%3D%3D?line=0'>1</a>\u001b[0m \u001b[39mimport\u001b[39;00m \u001b[39mjson\u001b[39;00m\n\u001b[0;32m----> <a href='vscode-notebook-cell:/Users/pierre/Documents/Cours/EDAN20/programmes%20TP/tokenizer/5-BPE.ipynb#Y161sZmlsZQ%3D%3D?line=1'>2</a>\u001b[0m ANSWER \u001b[39m=\u001b[39m json\u001b[39m.\u001b[39mdumps({\u001b[39m'\u001b[39m\u001b[39mout_candidate\u001b[39m\u001b[39m'\u001b[39m: out_candidate})\n\u001b[1;32m      <a href='vscode-notebook-cell:/Users/pierre/Documents/Cours/EDAN20/programmes%20TP/tokenizer/5-BPE.ipynb#Y161sZmlsZQ%3D%3D?line=2'>3</a>\u001b[0m ANSWER\n",
      "\u001b[0;31mNameError\u001b[0m: name 'out_candidate' is not defined"
     ]
    }
   ],
   "source": [
    "import json\n",
    "ANSWER = json.dumps({'out_candidate': out_candidate})\n",
    "ANSWER"
   ]
  },
  {
   "cell_type": "markdown",
   "metadata": {},
   "source": [
    "Now the moment of truth:\n",
    "1. Save your notebook and\n",
    "2. Run the cells below"
   ]
  },
  {
   "cell_type": "code",
   "execution_count": 47,
   "metadata": {},
   "outputs": [],
   "source": [
    "SUBMISSION_NOTEBOOK_PATH = CURRENT_NOTEBOOK_PATH + \".submission.bz2\""
   ]
  },
  {
   "cell_type": "code",
   "execution_count": 48,
   "metadata": {},
   "outputs": [],
   "source": [
    "import bz2\n",
    "ASSIGNMENT = 5\n",
    "API_KEY = \"f581ba347babfea0b8f2c74a3a6776a7\"\n",
    "\n",
    "# Copy and compress current notebook\n",
    "with bz2.open(SUBMISSION_NOTEBOOK_PATH, mode=\"wb\") as fout:\n",
    "    with open(CURRENT_NOTEBOOK_PATH, \"rb\") as fin:\n",
    "        fout.write(fin.read())"
   ]
  },
  {
   "cell_type": "code",
   "execution_count": 49,
   "metadata": {},
   "outputs": [
    {
     "data": {
      "text/plain": [
       "{'msg': None,\n",
       " 'status': 'correct',\n",
       " 'signature': '56944abf570d9d98eff11924c0fd6620bb99d29b80755114c3a97144357d5d762990df47bff346d713d4ce17c839d3fc6cf7c3a47f4db6d773f7fdad11d98d20',\n",
       " 'submission_id': '7f69d780-5eb5-4dc9-9c82-e43928bf9cba'}"
      ]
     },
     "execution_count": 49,
     "metadata": {},
     "output_type": "execute_result"
    }
   ],
   "source": [
    "res = requests.post(\"https://vilde.cs.lth.se/edan20checker/submit\", \n",
    "                    files={\"notebook_file\": open(SUBMISSION_NOTEBOOK_PATH, \"rb\")}, \n",
    "                    data={\n",
    "                        \"stil_id\": STIL_ID,\n",
    "                        \"assignment\": ASSIGNMENT,\n",
    "                        \"answer\": ANSWER,\n",
    "                        \"api_key\": API_KEY,\n",
    "                    },\n",
    "               verify=True)\n",
    "\n",
    "# from IPython.display import display, JSON\n",
    "res.json()"
   ]
  },
  {
   "cell_type": "markdown",
   "metadata": {
    "tags": []
   },
   "source": [
    "## Turning in your assignment"
   ]
  },
  {
   "cell_type": "markdown",
   "metadata": {},
   "source": [
    "Now your are done with the program. To complete this assignment, you will write a report where you will:\n",
    "1. Describe the background as well as the algorithms you used. For this, summarize the articles as described in the notebook:\n",
    "   * Preliminaries: subword tokenizers\n",
    "   * Design of the BPE Algorithm\n",
    "   * Unigram Language Model\n",
    "2. Describe your program as well as your results\n",
    "\n",
    "The whole report should be of 2 to 3 pages.\n",
    "\n",
    "Submit your report as well as your **notebook** (for archiving purposes) to Canvas: https://canvas.education.lu.se/. To write your report, you can either\n",
    "1. Write directly your text in Canvas, or\n",
    "2. Use Latex and Overleaf (www.overleaf.com). This will probably help you structure your text. You will then upload a PDF file in Canvas.\n",
    "\n",
    "The submission deadline is October 14, 2022."
   ]
  },
  {
   "cell_type": "markdown",
   "metadata": {},
   "source": [
    "## Curious?"
   ]
  },
  {
   "cell_type": "markdown",
   "metadata": {},
   "source": [
    "If you are interested, you can improve this program and test it on larger corpora. You can also read a fine implementation of BPE by Andrej Karpathy: https://github.com/karpathy/minGPT/blob/master/mingpt/bpe.py"
   ]
  }
 ],
 "metadata": {
  "kernelspec": {
   "display_name": "Python 3.9.13 ('base')",
   "language": "python",
   "name": "python3"
  },
  "language_info": {
   "codemirror_mode": {
    "name": "ipython",
    "version": 3
   },
   "file_extension": ".py",
   "mimetype": "text/x-python",
   "name": "python",
   "nbconvert_exporter": "python",
   "pygments_lexer": "ipython3",
   "version": "3.9.13"
  },
  "vscode": {
   "interpreter": {
    "hash": "b97b11a820675205aae8f1d7f2a3f22bbd3a2c30189f44042310baf5b4cd1987"
   }
  }
 },
 "nbformat": 4,
 "nbformat_minor": 4
}
